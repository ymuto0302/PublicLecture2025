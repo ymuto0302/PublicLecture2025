{
  "nbformat": 4,
  "nbformat_minor": 0,
  "metadata": {
    "colab": {
      "provenance": [],
      "authorship_tag": "ABX9TyPpFllYiw6vBxLwYzoDks8o",
      "include_colab_link": true
    },
    "kernelspec": {
      "name": "python3",
      "display_name": "Python 3"
    },
    "language_info": {
      "name": "python"
    }
  },
  "cells": [
    {
      "cell_type": "markdown",
      "metadata": {
        "id": "view-in-github",
        "colab_type": "text"
      },
      "source": [
        "<a href=\"https://colab.research.google.com/github/ymuto0302/PublicLecture2025/blob/main/Python%E5%9F%BA%E7%A4%8E.ipynb\" target=\"_parent\"><img src=\"https://colab.research.google.com/assets/colab-badge.svg\" alt=\"Open In Colab\"/></a>"
      ]
    },
    {
      "cell_type": "code",
      "execution_count": null,
      "metadata": {
        "colab": {
          "base_uri": "https://localhost:8080/"
        },
        "id": "qQBjqzySb441",
        "outputId": "2381256e-979c-4709-bdb3-cbddcb27f56e"
      },
      "outputs": [
        {
          "output_type": "stream",
          "name": "stdout",
          "text": [
            "データサイエンス講座へようこそ！\n",
            "私の名前は○○です\n"
          ]
        }
      ],
      "source": [
        "# 最初のコードセルに入力して実行\n",
        "print(\"データサイエンス講座へようこそ！\")\n",
        "print(\"私の名前は○○です\")"
      ]
    },
    {
      "cell_type": "markdown",
      "source": [
        "## 変数と基本データ型"
      ],
      "metadata": {
        "id": "LBGdXi92iI7o"
      }
    },
    {
      "cell_type": "code",
      "source": [
        "# 数値型（整数）\n",
        "age = 14\n",
        "print(\"年齢:\", age)\n",
        "\n",
        "# 数値型（小数）\n",
        "height = 160.5\n",
        "print(\"身長:\", height, \"cm\")\n",
        "\n",
        "# 文字列型\n",
        "name = \"田中太郎\"\n",
        "print(\"名前:\", name)\n",
        "\n",
        "# ブール型（True/False）\n",
        "is_student = True\n",
        "print(\"学生ですか?\", is_student)"
      ],
      "metadata": {
        "colab": {
          "base_uri": "https://localhost:8080/"
        },
        "id": "he3FjGrphEZv",
        "outputId": "a83dbc6f-f9df-4adb-9111-700929706c39"
      },
      "execution_count": null,
      "outputs": [
        {
          "output_type": "stream",
          "name": "stdout",
          "text": [
            "年齢: 14\n",
            "身長: 160.5 cm\n",
            "名前: 田中太郎\n",
            "学生ですか? True\n"
          ]
        }
      ]
    },
    {
      "cell_type": "markdown",
      "source": [
        "## リスト"
      ],
      "metadata": {
        "id": "kaN5OSKFquu0"
      }
    },
    {
      "cell_type": "code",
      "source": [
        "# 科目のリスト\n",
        "subjects = [\"数学\", \"英語\", \"理科\", \"社会\", \"国語\"]\n",
        "print(\"科目一覧:\", subjects)\n",
        "\n",
        "# 点数のリスト\n",
        "scores = [85, 78, 92, 80, 88]\n",
        "print(\"点数一覧:\", scores)\n",
        "\n",
        "# リストの要素にアクセス（0から始まることに注意）\n",
        "print(\"最初の科目:\", subjects[0])  # 数学\n",
        "print(\"2番目の点数:\", scores[1])   # 78\n",
        "\n",
        "# リストの長さ\n",
        "print(\"科目数:\", len(subjects))"
      ],
      "metadata": {
        "colab": {
          "base_uri": "https://localhost:8080/"
        },
        "id": "FbB5RkxUkd7X",
        "outputId": "0927b75c-356a-4556-b1e4-5944a3d41ab4"
      },
      "execution_count": null,
      "outputs": [
        {
          "output_type": "stream",
          "name": "stdout",
          "text": [
            "科目一覧: ['数学', '英語', '理科', '社会', '国語']\n",
            "点数一覧: [85, 78, 92, 80, 88]\n",
            "最初の科目: 数学\n",
            "2番目の点数: 78\n",
            "科目数: 5\n"
          ]
        }
      ]
    },
    {
      "cell_type": "markdown",
      "source": [
        "## 辞書"
      ],
      "metadata": {
        "id": "wmtDOHRWqxV7"
      }
    },
    {
      "cell_type": "code",
      "source": [
        "# 生徒情報の辞書\n",
        "student = {\n",
        "    \"名前\": \"田中太郎\",\n",
        "    \"年齢\": 14,\n",
        "    \"身長\": 160.5,\n",
        "    \"学年\": \"中学2年\"\n",
        "}\n",
        "print(\"生徒情報:\", student)\n",
        "\n",
        "# 辞書の値にアクセス\n",
        "print(\"名前:\", student[\"名前\"])\n",
        "print(\"年齢:\", student[\"年齢\"])\n",
        "\n",
        "# 新しいキーと値を追加\n",
        "student[\"趣味\"] = \"サッカー\"\n",
        "print(\"更新後:\", student)"
      ],
      "metadata": {
        "colab": {
          "base_uri": "https://localhost:8080/"
        },
        "id": "xU-KeouRkgtx",
        "outputId": "88d7b43e-6878-49ac-b5c1-6ecfd68035bb"
      },
      "execution_count": null,
      "outputs": [
        {
          "output_type": "stream",
          "name": "stdout",
          "text": [
            "生徒情報: {'名前': '田中太郎', '年齢': 14, '身長': 160.5, '学年': '中学2年'}\n",
            "名前: 田中太郎\n",
            "年齢: 14\n",
            "更新後: {'名前': '田中太郎', '年齢': 14, '身長': 160.5, '学年': '中学2年', '趣味': 'サッカー'}\n"
          ]
        }
      ]
    },
    {
      "cell_type": "code",
      "source": [
        "# リストだと対応が分からない\n",
        "subjects = [\"数学\", \"英語\", \"理科\"]\n",
        "scores = [85, 78, 92]\n",
        "\n",
        "# 辞書なら対応が明確\n",
        "grade = {\n",
        "    \"数学\": 85,\n",
        "    \"英語\": 78,\n",
        "    \"理科\": 92\n",
        "}\n",
        "print(\"数学の点数:\", grade[\"数学\"])"
      ],
      "metadata": {
        "colab": {
          "base_uri": "https://localhost:8080/"
        },
        "id": "V8DjSI8Eqlc5",
        "outputId": "232ea5eb-92b4-44dc-8992-e0c8d66046ce"
      },
      "execution_count": null,
      "outputs": [
        {
          "output_type": "stream",
          "name": "stdout",
          "text": [
            "数学の点数: 85\n"
          ]
        }
      ]
    },
    {
      "cell_type": "markdown",
      "source": [
        "## Pandas入門"
      ],
      "metadata": {
        "id": "uxMPeDJXsk9V"
      }
    },
    {
      "cell_type": "code",
      "source": [
        "import pandas as pd\n",
        "\n",
        "print(\"pandasを使う準備ができました！\")"
      ],
      "metadata": {
        "colab": {
          "base_uri": "https://localhost:8080/"
        },
        "id": "XGNsPorokgqt",
        "outputId": "2b1821f6-ed96-4b1e-88fd-00dcafee596c"
      },
      "execution_count": null,
      "outputs": [
        {
          "output_type": "stream",
          "name": "stdout",
          "text": [
            "pandasを使う準備ができました！\n"
          ]
        }
      ]
    },
    {
      "cell_type": "markdown",
      "source": [
        "### 辞書からデータフレーム作成"
      ],
      "metadata": {
        "id": "40wjuUcBucdx"
      }
    },
    {
      "cell_type": "code",
      "source": [
        "# 成績データと同じ構造\n",
        "data = {\n",
        "    \"生徒名\": [\"田中\", \"佐藤\", \"鈴木\", \"高橋\", \"山田\"],\n",
        "    \"数学\": [85, 78, 92, 80, 88],\n",
        "    \"英語\": [78, 85, 88, 75, 82],\n",
        "    \"理科\": [92, 80, 85, 90, 87]\n",
        "}\n",
        "\n",
        "# データフレーム作成\n",
        "df = pd.DataFrame(data)\n",
        "print(\"作成したデータフレーム:\")\n",
        "print(df)"
      ],
      "metadata": {
        "colab": {
          "base_uri": "https://localhost:8080/"
        },
        "id": "8-6OybfWkghP",
        "outputId": "b595d342-d58a-422d-ec2f-fbd94ebd7550"
      },
      "execution_count": null,
      "outputs": [
        {
          "output_type": "stream",
          "name": "stdout",
          "text": [
            "作成したデータフレーム:\n",
            "  生徒名  数学  英語  理科\n",
            "0  田中  85  78  92\n",
            "1  佐藤  78  85  80\n",
            "2  鈴木  92  88  85\n",
            "3  高橋  80  75  90\n",
            "4  山田  88  82  87\n"
          ]
        }
      ]
    },
    {
      "cell_type": "markdown",
      "source": [
        "### データの概要確認"
      ],
      "metadata": {
        "id": "D_0wbt4WxDGL"
      }
    },
    {
      "cell_type": "code",
      "source": [
        "# データの最初の数行を表示\n",
        "print(\"最初の3行:\")\n",
        "print(df.head(3))\n",
        "\n",
        "# データの形状（行数×列数）\n",
        "print(\"データの大きさ:\", df.shape)\n",
        "\n",
        "# 列名の確認\n",
        "print(\"列名一覧:\", df.columns.tolist())\n",
        "\n",
        "# データ型の確認\n",
        "print(\"各列のデータ型:\")\n",
        "print(df.dtypes)"
      ],
      "metadata": {
        "colab": {
          "base_uri": "https://localhost:8080/"
        },
        "id": "nAuKgQRiuhkl",
        "outputId": "4eae8205-0bee-4e65-c9bb-75de668a04f0"
      },
      "execution_count": null,
      "outputs": [
        {
          "output_type": "stream",
          "name": "stdout",
          "text": [
            "最初の3行:\n",
            "  生徒名  数学  英語  理科\n",
            "0  田中  85  78  92\n",
            "1  佐藤  78  85  80\n",
            "2  鈴木  92  88  85\n",
            "データの大きさ: (5, 4)\n",
            "列名一覧: ['生徒名', '数学', '英語', '理科']\n",
            "各列のデータ型:\n",
            "生徒名    object\n",
            "数学      int64\n",
            "英語      int64\n",
            "理科      int64\n",
            "dtype: object\n"
          ]
        }
      ]
    },
    {
      "cell_type": "markdown",
      "source": [
        "### 特定の列へのアクセス"
      ],
      "metadata": {
        "id": "3qajKYAZ1o07"
      }
    },
    {
      "cell_type": "code",
      "source": [
        "# 1つの列を取得\n",
        "print(\"数学の点数:\")\n",
        "print(df[\"数学\"])\n",
        "\n",
        "# 複数の列を取得\n",
        "print(\"数学と英語の点数:\")\n",
        "print(df[[\"数学\", \"英語\"]])"
      ],
      "metadata": {
        "id": "RLZ2HRhDxGuh",
        "colab": {
          "base_uri": "https://localhost:8080/"
        },
        "outputId": "11d21be2-8f36-4b3b-edb5-a23d49f9bd6f"
      },
      "execution_count": null,
      "outputs": [
        {
          "output_type": "stream",
          "name": "stdout",
          "text": [
            "数学の点数:\n",
            "0    85\n",
            "1    78\n",
            "2    92\n",
            "3    80\n",
            "4    88\n",
            "Name: 数学, dtype: int64\n",
            "数学と英語の点数:\n",
            "   数学  英語\n",
            "0  85  78\n",
            "1  78  85\n",
            "2  92  88\n",
            "3  80  75\n",
            "4  88  82\n"
          ]
        }
      ]
    },
    {
      "cell_type": "markdown",
      "source": [
        "### 特定の行へのアクセス"
      ],
      "metadata": {
        "id": "E92DfmQM1r7U"
      }
    },
    {
      "cell_type": "code",
      "source": [
        "# インデックス0の行（田中さんの成績）\n",
        "print(\"田中さんの成績:\")\n",
        "print(df.iloc[0])\n",
        "\n",
        "# 条件で行を選択（数学80点以上）\n",
        "print(\"数学80点以上の生徒:\")\n",
        "high_math = df[df[\"数学\"] >= 80]\n",
        "print(high_math)"
      ],
      "metadata": {
        "colab": {
          "base_uri": "https://localhost:8080/"
        },
        "id": "llTjk8yn1uPE",
        "outputId": "2a63c998-9896-4fe5-a02f-768c7ef0a211"
      },
      "execution_count": null,
      "outputs": [
        {
          "output_type": "stream",
          "name": "stdout",
          "text": [
            "田中さんの成績:\n",
            "生徒名    田中\n",
            "数学     85\n",
            "英語     78\n",
            "理科     92\n",
            "Name: 0, dtype: object\n",
            "数学80点以上の生徒:\n",
            "  生徒名  数学  英語  理科\n",
            "0  田中  85  78  92\n",
            "2  鈴木  92  88  85\n",
            "3  高橋  80  75  90\n",
            "4  山田  88  82  87\n"
          ]
        }
      ]
    },
    {
      "cell_type": "markdown",
      "source": [
        "### 簡単な集計処理：基本統計量"
      ],
      "metadata": {
        "id": "LoDDdLeN6RZn"
      }
    },
    {
      "cell_type": "code",
      "source": [
        "# 各科目の平均点\n",
        "print(\"各科目の平均点:\")\n",
        "print(df[[\"数学\", \"英語\", \"理科\"]].mean())\n",
        "\n",
        "# 各科目の最高点\n",
        "print(\"各科目の最高点:\")\n",
        "print(df[[\"数学\", \"英語\", \"理科\"]].max())\n",
        "\n",
        "# 田中さんの平均点\n",
        "tanaka_scores = df[df[\"生徒名\"] == \"田中\"][[\"数学\", \"英語\", \"理科\"]]\n",
        "print(\"田中さんの平均点:\", tanaka_scores.mean().mean())"
      ],
      "metadata": {
        "colab": {
          "base_uri": "https://localhost:8080/"
        },
        "id": "tY8UJ4zn6Tyf",
        "outputId": "1375d68f-c207-48d5-d32f-2f92aa3e608b"
      },
      "execution_count": null,
      "outputs": [
        {
          "output_type": "stream",
          "name": "stdout",
          "text": [
            "各科目の平均点:\n",
            "数学    84.6\n",
            "英語    81.6\n",
            "理科    86.8\n",
            "dtype: float64\n",
            "各科目の最高点:\n",
            "数学    92\n",
            "英語    88\n",
            "理科    92\n",
            "dtype: int64\n",
            "田中さんの平均点: 85.0\n"
          ]
        }
      ]
    },
    {
      "cell_type": "markdown",
      "source": [
        "### CSVファイルからのデータ読み込み"
      ],
      "metadata": {
        "id": "nFvFT4sp8x1V"
      }
    },
    {
      "cell_type": "code",
      "source": [
        "df = pd.read_csv(\"iris.csv\")"
      ],
      "metadata": {
        "id": "gzuoKnLO6YVV"
      },
      "execution_count": null,
      "outputs": []
    },
    {
      "cell_type": "code",
      "source": [
        "df.head()"
      ],
      "metadata": {
        "id": "KwcrIvvi-nqb",
        "outputId": "dcd99f99-5e94-430c-d1b0-8214354bddcc",
        "colab": {
          "base_uri": "https://localhost:8080/",
          "height": 206
        }
      },
      "execution_count": null,
      "outputs": [
        {
          "output_type": "execute_result",
          "data": {
            "text/plain": [
              "   sepal.length  sepal.width  petal.length  petal.width variety\n",
              "0           5.1          3.5           1.4          0.2  Setosa\n",
              "1           4.9          3.0           1.4          0.2  Setosa\n",
              "2           4.7          3.2           1.3          0.2  Setosa\n",
              "3           4.6          3.1           1.5          0.2  Setosa\n",
              "4           5.0          3.6           1.4          0.2  Setosa"
            ],
            "text/html": [
              "\n",
              "  <div id=\"df-1e19457a-cae8-4d70-8ff8-6d64d45c1e32\" class=\"colab-df-container\">\n",
              "    <div>\n",
              "<style scoped>\n",
              "    .dataframe tbody tr th:only-of-type {\n",
              "        vertical-align: middle;\n",
              "    }\n",
              "\n",
              "    .dataframe tbody tr th {\n",
              "        vertical-align: top;\n",
              "    }\n",
              "\n",
              "    .dataframe thead th {\n",
              "        text-align: right;\n",
              "    }\n",
              "</style>\n",
              "<table border=\"1\" class=\"dataframe\">\n",
              "  <thead>\n",
              "    <tr style=\"text-align: right;\">\n",
              "      <th></th>\n",
              "      <th>sepal.length</th>\n",
              "      <th>sepal.width</th>\n",
              "      <th>petal.length</th>\n",
              "      <th>petal.width</th>\n",
              "      <th>variety</th>\n",
              "    </tr>\n",
              "  </thead>\n",
              "  <tbody>\n",
              "    <tr>\n",
              "      <th>0</th>\n",
              "      <td>5.1</td>\n",
              "      <td>3.5</td>\n",
              "      <td>1.4</td>\n",
              "      <td>0.2</td>\n",
              "      <td>Setosa</td>\n",
              "    </tr>\n",
              "    <tr>\n",
              "      <th>1</th>\n",
              "      <td>4.9</td>\n",
              "      <td>3.0</td>\n",
              "      <td>1.4</td>\n",
              "      <td>0.2</td>\n",
              "      <td>Setosa</td>\n",
              "    </tr>\n",
              "    <tr>\n",
              "      <th>2</th>\n",
              "      <td>4.7</td>\n",
              "      <td>3.2</td>\n",
              "      <td>1.3</td>\n",
              "      <td>0.2</td>\n",
              "      <td>Setosa</td>\n",
              "    </tr>\n",
              "    <tr>\n",
              "      <th>3</th>\n",
              "      <td>4.6</td>\n",
              "      <td>3.1</td>\n",
              "      <td>1.5</td>\n",
              "      <td>0.2</td>\n",
              "      <td>Setosa</td>\n",
              "    </tr>\n",
              "    <tr>\n",
              "      <th>4</th>\n",
              "      <td>5.0</td>\n",
              "      <td>3.6</td>\n",
              "      <td>1.4</td>\n",
              "      <td>0.2</td>\n",
              "      <td>Setosa</td>\n",
              "    </tr>\n",
              "  </tbody>\n",
              "</table>\n",
              "</div>\n",
              "    <div class=\"colab-df-buttons\">\n",
              "\n",
              "  <div class=\"colab-df-container\">\n",
              "    <button class=\"colab-df-convert\" onclick=\"convertToInteractive('df-1e19457a-cae8-4d70-8ff8-6d64d45c1e32')\"\n",
              "            title=\"Convert this dataframe to an interactive table.\"\n",
              "            style=\"display:none;\">\n",
              "\n",
              "  <svg xmlns=\"http://www.w3.org/2000/svg\" height=\"24px\" viewBox=\"0 -960 960 960\">\n",
              "    <path d=\"M120-120v-720h720v720H120Zm60-500h600v-160H180v160Zm220 220h160v-160H400v160Zm0 220h160v-160H400v160ZM180-400h160v-160H180v160Zm440 0h160v-160H620v160ZM180-180h160v-160H180v160Zm440 0h160v-160H620v160Z\"/>\n",
              "  </svg>\n",
              "    </button>\n",
              "\n",
              "  <style>\n",
              "    .colab-df-container {\n",
              "      display:flex;\n",
              "      gap: 12px;\n",
              "    }\n",
              "\n",
              "    .colab-df-convert {\n",
              "      background-color: #E8F0FE;\n",
              "      border: none;\n",
              "      border-radius: 50%;\n",
              "      cursor: pointer;\n",
              "      display: none;\n",
              "      fill: #1967D2;\n",
              "      height: 32px;\n",
              "      padding: 0 0 0 0;\n",
              "      width: 32px;\n",
              "    }\n",
              "\n",
              "    .colab-df-convert:hover {\n",
              "      background-color: #E2EBFA;\n",
              "      box-shadow: 0px 1px 2px rgba(60, 64, 67, 0.3), 0px 1px 3px 1px rgba(60, 64, 67, 0.15);\n",
              "      fill: #174EA6;\n",
              "    }\n",
              "\n",
              "    .colab-df-buttons div {\n",
              "      margin-bottom: 4px;\n",
              "    }\n",
              "\n",
              "    [theme=dark] .colab-df-convert {\n",
              "      background-color: #3B4455;\n",
              "      fill: #D2E3FC;\n",
              "    }\n",
              "\n",
              "    [theme=dark] .colab-df-convert:hover {\n",
              "      background-color: #434B5C;\n",
              "      box-shadow: 0px 1px 3px 1px rgba(0, 0, 0, 0.15);\n",
              "      filter: drop-shadow(0px 1px 2px rgba(0, 0, 0, 0.3));\n",
              "      fill: #FFFFFF;\n",
              "    }\n",
              "  </style>\n",
              "\n",
              "    <script>\n",
              "      const buttonEl =\n",
              "        document.querySelector('#df-1e19457a-cae8-4d70-8ff8-6d64d45c1e32 button.colab-df-convert');\n",
              "      buttonEl.style.display =\n",
              "        google.colab.kernel.accessAllowed ? 'block' : 'none';\n",
              "\n",
              "      async function convertToInteractive(key) {\n",
              "        const element = document.querySelector('#df-1e19457a-cae8-4d70-8ff8-6d64d45c1e32');\n",
              "        const dataTable =\n",
              "          await google.colab.kernel.invokeFunction('convertToInteractive',\n",
              "                                                    [key], {});\n",
              "        if (!dataTable) return;\n",
              "\n",
              "        const docLinkHtml = 'Like what you see? Visit the ' +\n",
              "          '<a target=\"_blank\" href=https://colab.research.google.com/notebooks/data_table.ipynb>data table notebook</a>'\n",
              "          + ' to learn more about interactive tables.';\n",
              "        element.innerHTML = '';\n",
              "        dataTable['output_type'] = 'display_data';\n",
              "        await google.colab.output.renderOutput(dataTable, element);\n",
              "        const docLink = document.createElement('div');\n",
              "        docLink.innerHTML = docLinkHtml;\n",
              "        element.appendChild(docLink);\n",
              "      }\n",
              "    </script>\n",
              "  </div>\n",
              "\n",
              "\n",
              "    <div id=\"df-412fb3b6-4998-4c19-85db-c9d7adce0000\">\n",
              "      <button class=\"colab-df-quickchart\" onclick=\"quickchart('df-412fb3b6-4998-4c19-85db-c9d7adce0000')\"\n",
              "                title=\"Suggest charts\"\n",
              "                style=\"display:none;\">\n",
              "\n",
              "<svg xmlns=\"http://www.w3.org/2000/svg\" height=\"24px\"viewBox=\"0 0 24 24\"\n",
              "     width=\"24px\">\n",
              "    <g>\n",
              "        <path d=\"M19 3H5c-1.1 0-2 .9-2 2v14c0 1.1.9 2 2 2h14c1.1 0 2-.9 2-2V5c0-1.1-.9-2-2-2zM9 17H7v-7h2v7zm4 0h-2V7h2v10zm4 0h-2v-4h2v4z\"/>\n",
              "    </g>\n",
              "</svg>\n",
              "      </button>\n",
              "\n",
              "<style>\n",
              "  .colab-df-quickchart {\n",
              "      --bg-color: #E8F0FE;\n",
              "      --fill-color: #1967D2;\n",
              "      --hover-bg-color: #E2EBFA;\n",
              "      --hover-fill-color: #174EA6;\n",
              "      --disabled-fill-color: #AAA;\n",
              "      --disabled-bg-color: #DDD;\n",
              "  }\n",
              "\n",
              "  [theme=dark] .colab-df-quickchart {\n",
              "      --bg-color: #3B4455;\n",
              "      --fill-color: #D2E3FC;\n",
              "      --hover-bg-color: #434B5C;\n",
              "      --hover-fill-color: #FFFFFF;\n",
              "      --disabled-bg-color: #3B4455;\n",
              "      --disabled-fill-color: #666;\n",
              "  }\n",
              "\n",
              "  .colab-df-quickchart {\n",
              "    background-color: var(--bg-color);\n",
              "    border: none;\n",
              "    border-radius: 50%;\n",
              "    cursor: pointer;\n",
              "    display: none;\n",
              "    fill: var(--fill-color);\n",
              "    height: 32px;\n",
              "    padding: 0;\n",
              "    width: 32px;\n",
              "  }\n",
              "\n",
              "  .colab-df-quickchart:hover {\n",
              "    background-color: var(--hover-bg-color);\n",
              "    box-shadow: 0 1px 2px rgba(60, 64, 67, 0.3), 0 1px 3px 1px rgba(60, 64, 67, 0.15);\n",
              "    fill: var(--button-hover-fill-color);\n",
              "  }\n",
              "\n",
              "  .colab-df-quickchart-complete:disabled,\n",
              "  .colab-df-quickchart-complete:disabled:hover {\n",
              "    background-color: var(--disabled-bg-color);\n",
              "    fill: var(--disabled-fill-color);\n",
              "    box-shadow: none;\n",
              "  }\n",
              "\n",
              "  .colab-df-spinner {\n",
              "    border: 2px solid var(--fill-color);\n",
              "    border-color: transparent;\n",
              "    border-bottom-color: var(--fill-color);\n",
              "    animation:\n",
              "      spin 1s steps(1) infinite;\n",
              "  }\n",
              "\n",
              "  @keyframes spin {\n",
              "    0% {\n",
              "      border-color: transparent;\n",
              "      border-bottom-color: var(--fill-color);\n",
              "      border-left-color: var(--fill-color);\n",
              "    }\n",
              "    20% {\n",
              "      border-color: transparent;\n",
              "      border-left-color: var(--fill-color);\n",
              "      border-top-color: var(--fill-color);\n",
              "    }\n",
              "    30% {\n",
              "      border-color: transparent;\n",
              "      border-left-color: var(--fill-color);\n",
              "      border-top-color: var(--fill-color);\n",
              "      border-right-color: var(--fill-color);\n",
              "    }\n",
              "    40% {\n",
              "      border-color: transparent;\n",
              "      border-right-color: var(--fill-color);\n",
              "      border-top-color: var(--fill-color);\n",
              "    }\n",
              "    60% {\n",
              "      border-color: transparent;\n",
              "      border-right-color: var(--fill-color);\n",
              "    }\n",
              "    80% {\n",
              "      border-color: transparent;\n",
              "      border-right-color: var(--fill-color);\n",
              "      border-bottom-color: var(--fill-color);\n",
              "    }\n",
              "    90% {\n",
              "      border-color: transparent;\n",
              "      border-bottom-color: var(--fill-color);\n",
              "    }\n",
              "  }\n",
              "</style>\n",
              "\n",
              "      <script>\n",
              "        async function quickchart(key) {\n",
              "          const quickchartButtonEl =\n",
              "            document.querySelector('#' + key + ' button');\n",
              "          quickchartButtonEl.disabled = true;  // To prevent multiple clicks.\n",
              "          quickchartButtonEl.classList.add('colab-df-spinner');\n",
              "          try {\n",
              "            const charts = await google.colab.kernel.invokeFunction(\n",
              "                'suggestCharts', [key], {});\n",
              "          } catch (error) {\n",
              "            console.error('Error during call to suggestCharts:', error);\n",
              "          }\n",
              "          quickchartButtonEl.classList.remove('colab-df-spinner');\n",
              "          quickchartButtonEl.classList.add('colab-df-quickchart-complete');\n",
              "        }\n",
              "        (() => {\n",
              "          let quickchartButtonEl =\n",
              "            document.querySelector('#df-412fb3b6-4998-4c19-85db-c9d7adce0000 button');\n",
              "          quickchartButtonEl.style.display =\n",
              "            google.colab.kernel.accessAllowed ? 'block' : 'none';\n",
              "        })();\n",
              "      </script>\n",
              "    </div>\n",
              "\n",
              "    </div>\n",
              "  </div>\n"
            ],
            "application/vnd.google.colaboratory.intrinsic+json": {
              "type": "dataframe",
              "variable_name": "df",
              "summary": "{\n  \"name\": \"df\",\n  \"rows\": 150,\n  \"fields\": [\n    {\n      \"column\": \"sepal.length\",\n      \"properties\": {\n        \"dtype\": \"number\",\n        \"std\": 0.8280661279778629,\n        \"min\": 4.3,\n        \"max\": 7.9,\n        \"num_unique_values\": 35,\n        \"samples\": [\n          6.2,\n          4.5,\n          5.6\n        ],\n        \"semantic_type\": \"\",\n        \"description\": \"\"\n      }\n    },\n    {\n      \"column\": \"sepal.width\",\n      \"properties\": {\n        \"dtype\": \"number\",\n        \"std\": 0.435866284936698,\n        \"min\": 2.0,\n        \"max\": 4.4,\n        \"num_unique_values\": 23,\n        \"samples\": [\n          2.3,\n          4.0,\n          3.5\n        ],\n        \"semantic_type\": \"\",\n        \"description\": \"\"\n      }\n    },\n    {\n      \"column\": \"petal.length\",\n      \"properties\": {\n        \"dtype\": \"number\",\n        \"std\": 1.7652982332594667,\n        \"min\": 1.0,\n        \"max\": 6.9,\n        \"num_unique_values\": 43,\n        \"samples\": [\n          6.7,\n          3.8,\n          3.7\n        ],\n        \"semantic_type\": \"\",\n        \"description\": \"\"\n      }\n    },\n    {\n      \"column\": \"petal.width\",\n      \"properties\": {\n        \"dtype\": \"number\",\n        \"std\": 0.7622376689603465,\n        \"min\": 0.1,\n        \"max\": 2.5,\n        \"num_unique_values\": 22,\n        \"samples\": [\n          0.2,\n          1.2,\n          1.3\n        ],\n        \"semantic_type\": \"\",\n        \"description\": \"\"\n      }\n    },\n    {\n      \"column\": \"variety\",\n      \"properties\": {\n        \"dtype\": \"category\",\n        \"num_unique_values\": 3,\n        \"samples\": [\n          \"Setosa\",\n          \"Versicolor\",\n          \"Virginica\"\n        ],\n        \"semantic_type\": \"\",\n        \"description\": \"\"\n      }\n    }\n  ]\n}"
            }
          },
          "metadata": {},
          "execution_count": 20
        }
      ]
    },
    {
      "cell_type": "code",
      "source": [],
      "metadata": {
        "id": "aDm1OuWi-o5s"
      },
      "execution_count": null,
      "outputs": []
    }
  ]
}