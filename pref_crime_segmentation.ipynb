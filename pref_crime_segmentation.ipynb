{
  "nbformat": 4,
  "nbformat_minor": 0,
  "metadata": {
    "colab": {
      "provenance": [],
      "authorship_tag": "ABX9TyPRVo2aavhpWkPo6zas9lfR",
      "include_colab_link": true
    },
    "kernelspec": {
      "name": "python3",
      "display_name": "Python 3"
    },
    "language_info": {
      "name": "python"
    }
  },
  "cells": [
    {
      "cell_type": "markdown",
      "metadata": {
        "id": "view-in-github",
        "colab_type": "text"
      },
      "source": [
        "<a href=\"https://colab.research.google.com/github/ymuto0302/PublicLecture2025/blob/main/pref_crime_segmentation.ipynb\" target=\"_parent\"><img src=\"https://colab.research.google.com/assets/colab-badge.svg\" alt=\"Open In Colab\"/></a>"
      ]
    },
    {
      "cell_type": "markdown",
      "source": [
        "# 都道府県セグメンテーション\n",
        "\n",
        "県民所得，人口密度，犯罪率のデータに基づき，都道府県のグループ分けを試みる。\n",
        "\n",
        "本ノートブックにて用いるデータは，下記の公的データをまとめたものである。\n",
        "- 県民所得データ：令和４年度県民経済計算（内閣府経済社会総合研究所）\n",
        "- 人口密度データ：uub.jp（都道府県市区町村統計サイト）から令和５年10月1日現在の推計人口および令和５年7月1日現在の国土地理院データから面積を取得\n",
        "- 人口あたり犯罪件数：令和5年犯罪統計資料（警察庁），令和6年警察白書 → 人口10万人当たり刑法犯認知件数（令和5年）"
      ],
      "metadata": {
        "id": "AqEwxY7dIzLG"
      }
    },
    {
      "cell_type": "code",
      "source": [
        "# グラフ表示の際，日本語を表示できるように japanize_matplotlib をインストール\n",
        "!pip install japanize_matplotlib"
      ],
      "metadata": {
        "id": "cO4VC_KAvqoR"
      },
      "execution_count": null,
      "outputs": []
    },
    {
      "cell_type": "code",
      "source": [
        "# 必要なライブラリのインポート\n",
        "import pandas as pd\n",
        "import numpy as np\n",
        "import matplotlib.pyplot as plt\n",
        "import japanize_matplotlib\n",
        "from sklearn.cluster import KMeans\n",
        "from sklearn.preprocessing import StandardScaler"
      ],
      "metadata": {
        "id": "Guc3MrLZq8Bo"
      },
      "execution_count": null,
      "outputs": []
    },
    {
      "cell_type": "markdown",
      "source": [
        "## STEP 1: データの読み込みと確認\n",
        "独自に作成した crime.csv を読み込む。"
      ],
      "metadata": {
        "id": "ouA6G0RTFOwJ"
      }
    },
    {
      "cell_type": "code",
      "source": [
        "# データの読み込み\n",
        "# Mall Customer Segmentation Datasetを使用\n",
        "df = pd.read_csv('crime.csv')\n",
        "\n",
        "print(f\"データ件数: {df.shape[0]}\")\n",
        "\n",
        "# データの先頭5行を確認\n",
        "df.head()"
      ],
      "metadata": {
        "id": "1i-rYM11E6qW"
      },
      "execution_count": null,
      "outputs": []
    },
    {
      "cell_type": "code",
      "source": [
        "print(\"\\n=== 基本統計量の確認 ===\")\n",
        "df.describe()"
      ],
      "metadata": {
        "id": "GzY6LLDGFZSY"
      },
      "execution_count": null,
      "outputs": []
    },
    {
      "cell_type": "code",
      "source": [
        "print(\"\\n=== 欠損値の確認 ===\")\n",
        "df.isnull().sum()"
      ],
      "metadata": {
        "id": "wZOV0ZQ4rCAg"
      },
      "execution_count": null,
      "outputs": []
    },
    {
      "cell_type": "code",
      "source": [
        "# データ分布の可視化\n",
        "\n",
        "# クラスタリング用の特徴量を選択: 県民所得と犯罪件数を使用\n",
        "features = ['県民所得', '犯罪件数']\n",
        "X = df[features].copy()\n",
        "\n",
        "# 散布図プロット\n",
        "plt.scatter(X['県民所得'], X['犯罪件数'], alpha=0.7)\n",
        "plt.xlabel('県民所得')\n",
        "plt.ylabel('犯罪件数')\n",
        "plt.title('散布図')\n",
        "plt.show()"
      ],
      "metadata": {
        "id": "V6DR89kSrLJu"
      },
      "execution_count": null,
      "outputs": []
    },
    {
      "cell_type": "markdown",
      "source": [
        "## STEP 2: データの前処理（標準化）"
      ],
      "metadata": {
        "id": "i6_YFt51F8Mt"
      }
    },
    {
      "cell_type": "code",
      "source": [
        "# データの標準化\n",
        "scaler = StandardScaler()\n",
        "X_scaled = scaler.fit_transform(X)\n",
        "\n",
        "print(\"\\n=== 標準化後のデータ統計 ===\")\n",
        "X_scaled_df = pd.DataFrame(X_scaled)\n",
        "X_scaled_df.describe()"
      ],
      "metadata": {
        "id": "KQ0-lD9HGpH7"
      },
      "execution_count": null,
      "outputs": []
    },
    {
      "cell_type": "code",
      "source": [
        "from sklearn.metrics import silhouette_score\n",
        "\n",
        "# 最適なクラスター数の決定\n",
        "\n",
        "# エルボー法 ＆ シルエット分析\n",
        "inertias = []\n",
        "silhouette_scores = []\n",
        "k_range = range(2, 11) # クラスタ数の候補値を 2〜10 とする\n",
        "\n",
        "for k in k_range:\n",
        "    kmeans = KMeans(n_clusters=k, random_state=42, n_init=10)\n",
        "    kmeans.fit(X_scaled)\n",
        "    inertias.append(kmeans.inertia_)\n",
        "    silhouette_scores.append(silhouette_score(X_scaled, kmeans.labels_))\n",
        "\n",
        "# 結果の可視化\n",
        "plt.figure(figsize=(12, 5))\n",
        "\n",
        "plt.subplot(1, 2, 1)\n",
        "plt.plot(k_range, inertias, 'bo-')\n",
        "plt.xlabel('Number of Clusters')\n",
        "plt.ylabel('Inertia')\n",
        "plt.title('Elbow Method')\n",
        "plt.grid(True)\n",
        "\n",
        "plt.subplot(1, 2, 2)\n",
        "plt.plot(k_range, silhouette_scores, 'ro-')\n",
        "plt.xlabel('Number of Clusters')\n",
        "plt.ylabel('Silhouette Score')\n",
        "plt.title('Silhouette Score vs Number of Clusters')\n",
        "plt.grid(True)\n",
        "\n",
        "plt.tight_layout()\n",
        "plt.show()\n",
        "\n",
        "# 最適なクラスター数を出力\n",
        "best_k_silhouette = k_range[np.argmax(silhouette_scores)]\n",
        "print(f\"シルエット分析による最適クラスタ数: {best_k_silhouette}\")"
      ],
      "metadata": {
        "id": "Wf7FloQ_HA1N"
      },
      "execution_count": null,
      "outputs": []
    },
    {
      "cell_type": "markdown",
      "source": [
        "## STEP 3: k-means法によるクラスタリング"
      ],
      "metadata": {
        "id": "9DVjrNa-HFgP"
      }
    },
    {
      "cell_type": "code",
      "source": [
        "# k=6でクラスタリング実行\n",
        "optimal_k = 6\n",
        "kmeans = KMeans(n_clusters=optimal_k, random_state=42)\n",
        "cluster_labels = kmeans.fit_predict(X_scaled)\n",
        "\n",
        "# 結果をデータフレームに追加\n",
        "df['Cluster'] = cluster_labels\n",
        "\n",
        "# クラスター別の件数\n",
        "cluster_counts = pd.Series(cluster_labels).value_counts().sort_index()\n",
        "print(f\"\\n各クラスターの件数:\")\n",
        "for i, count in enumerate(cluster_counts):\n",
        "    print(f\"クラスター {i}: {count}件\")"
      ],
      "metadata": {
        "id": "Zeb8rTlGHLKA"
      },
      "execution_count": null,
      "outputs": []
    },
    {
      "cell_type": "markdown",
      "source": [
        "## STEP 4: 結果の評価と解釈"
      ],
      "metadata": {
        "id": "eOVw5VQrHvkQ"
      }
    },
    {
      "cell_type": "code",
      "source": [
        "# クラスター別の統計情報\n",
        "print(\"\\n=== クラスター別統計情報 ===\")\n",
        "cluster_summary = df.groupby('Cluster')[['県民所得', '人口密度', '犯罪件数']].agg({\n",
        "    '県民所得': ['mean', 'std'],\n",
        "    '人口密度': ['mean', 'std'],\n",
        "    '犯罪件数': ['mean', 'std']\n",
        "}).round(2)\n",
        "\n",
        "print(cluster_summary)"
      ],
      "metadata": {
        "id": "muG-EBoyH14W"
      },
      "execution_count": null,
      "outputs": []
    },
    {
      "cell_type": "code",
      "source": [
        "# クラスタリング結果の散布図\n",
        "plt.scatter(X[features[0]],  # X\n",
        "            X[features[1]], # Y\n",
        "            c=df['Cluster'], # 色はクラスタ番号に従う\n",
        "            alpha=0.7) # バブルの透明度\n",
        "\n",
        "plt.xlabel('県民所得')\n",
        "plt.ylabel('犯罪件数')\n",
        "plt.title('都道府県セグメンテーションの結果')\n",
        "plt.grid(True, alpha=0.3)"
      ],
      "metadata": {
        "id": "tbmJ5UYLIMiL"
      },
      "execution_count": null,
      "outputs": []
    },
    {
      "cell_type": "code",
      "source": [
        "# 各クラスタに含まれる都道府県名を観察する\n",
        "for i in range(optimal_k):\n",
        "    prefs = df[df['Cluster']==i]['都道府県'].tolist()\n",
        "    print(f\"クラスタ {i}: {prefs}\")"
      ],
      "metadata": {
        "id": "9v1shrMzOfAs"
      },
      "execution_count": null,
      "outputs": []
    },
    {
      "cell_type": "markdown",
      "source": [
        "---\n",
        "## 人口密度 vs 犯罪件数"
      ],
      "metadata": {
        "id": "k9EGLNCziRuj"
      }
    },
    {
      "cell_type": "markdown",
      "source": [
        "## STEP 1: データの確認"
      ],
      "metadata": {
        "id": "0bKURuGe9ssr"
      }
    },
    {
      "cell_type": "code",
      "source": [
        "# データ分布の可視化\n",
        "\n",
        "# クラスタリング用の特徴量を選択: 人口密度と犯罪件数を使用\n",
        "features = ['人口密度', '犯罪件数']\n",
        "X = df[features].copy()\n",
        "\n",
        "# scatter plot\n",
        "plt.scatter(X['人口密度'], X['犯罪件数'], alpha=0.7)\n",
        "plt.xlabel('人口密度')\n",
        "plt.ylabel('犯罪件数')\n",
        "plt.title('散布図')\n",
        "plt.show()\n"
      ],
      "metadata": {
        "id": "DRRlrldVhk1b"
      },
      "execution_count": null,
      "outputs": []
    },
    {
      "cell_type": "markdown",
      "source": [
        "## STEP 2: データの前処理（対数変換 & 標準化）"
      ],
      "metadata": {
        "id": "9gdTUz1H90H5"
      }
    },
    {
      "cell_type": "markdown",
      "source": [
        "東京都と大阪府の人口密度が飛び抜けてしまうため，横軸を対数スケールに変換して表示する"
      ],
      "metadata": {
        "id": "wnOoxhJTyUyc"
      }
    },
    {
      "cell_type": "code",
      "source": [
        "# データ分布の可視化： 人口密度を対数スケールへ変換\n",
        "plt.scatter(X['人口密度'], X['犯罪件数'], alpha=0.7)\n",
        "plt.xlabel('人口密度(対数)')\n",
        "plt.ylabel('犯罪件数')\n",
        "plt.title('散布図')\n",
        "plt.xscale('log') # 横軸を対数スケールにて表示\n",
        "plt.show()\n"
      ],
      "metadata": {
        "id": "A-xB43JYyK59"
      },
      "execution_count": null,
      "outputs": []
    },
    {
      "cell_type": "code",
      "source": [
        "# 人口密度を対数スケールに変換した後，標準化を行う\n",
        "df['log_人口密度'] = np.log(df['人口密度'])\n",
        "features = ['log_人口密度', '犯罪件数']\n",
        "X = df[features].copy()\n",
        "\n",
        "# データの標準化\n",
        "scaler = StandardScaler()\n",
        "X_scaled = scaler.fit_transform(X)\n",
        "\n",
        "print(\"\\n=== 標準化後のデータ統計 ===\")\n",
        "X_scaled_df = pd.DataFrame(X_scaled)\n",
        "X_scaled_df.describe()"
      ],
      "metadata": {
        "id": "6c_rZ9q7jrB7"
      },
      "execution_count": null,
      "outputs": []
    },
    {
      "cell_type": "code",
      "source": [
        "from sklearn.metrics import silhouette_score\n",
        "\n",
        "# 最適なクラスター数の決定\n",
        "\n",
        "# エルボー法 ＆ シルエット分析\n",
        "inertias = []\n",
        "silhouette_scores = []\n",
        "k_range = range(2, 11) # クラスタ数の候補値を 2〜10 とする\n",
        "\n",
        "for k in k_range:\n",
        "    kmeans = KMeans(n_clusters=k, random_state=42, n_init=10)\n",
        "    kmeans.fit(X_scaled)\n",
        "    inertias.append(kmeans.inertia_)\n",
        "    silhouette_scores.append(silhouette_score(X_scaled, kmeans.labels_))\n",
        "\n",
        "# 結果の可視化\n",
        "plt.figure(figsize=(12, 5))\n",
        "\n",
        "plt.subplot(1, 2, 1)\n",
        "plt.plot(k_range, inertias, 'bo-')\n",
        "plt.xlabel('Number of Clusters')\n",
        "plt.ylabel('Inertia')\n",
        "plt.title('Elbow Method')\n",
        "plt.grid(True)\n",
        "\n",
        "plt.subplot(1, 2, 2)\n",
        "plt.plot(k_range, silhouette_scores, 'ro-')\n",
        "plt.xlabel('Number of Clusters')\n",
        "plt.ylabel('Silhouette Score')\n",
        "plt.title('Silhouette Score vs Number of Clusters')\n",
        "plt.grid(True)\n",
        "\n",
        "plt.tight_layout()\n",
        "plt.show()\n",
        "\n",
        "# 最適なクラスター数を出力\n",
        "best_k_silhouette = k_range[np.argmax(silhouette_scores)]\n",
        "print(f\"シルエット分析による最適クラスタ数: {best_k_silhouette}\")"
      ],
      "metadata": {
        "id": "efOB57X0knsE"
      },
      "execution_count": null,
      "outputs": []
    },
    {
      "cell_type": "markdown",
      "source": [
        "## STEP 3: k-means法によるクラスタリング"
      ],
      "metadata": {
        "id": "tdEDxlRl-Evk"
      }
    },
    {
      "cell_type": "code",
      "source": [
        "# k=5でクラスタリング実行\n",
        "optimal_k = 5\n",
        "kmeans = KMeans(n_clusters=optimal_k, random_state=42)\n",
        "cluster_labels = kmeans.fit_predict(X_scaled)\n",
        "\n",
        "# 結果をデータフレームに追加\n",
        "df['Cluster'] = cluster_labels\n",
        "\n",
        "# クラスター別の件数\n",
        "cluster_counts = pd.Series(cluster_labels).value_counts().sort_index()\n",
        "print(f\"\\n各クラスターの件数:\")\n",
        "for i, count in enumerate(cluster_counts):\n",
        "    print(f\"クラスター {i}: {count}件\")"
      ],
      "metadata": {
        "id": "WAgmqPKqkAem"
      },
      "execution_count": null,
      "outputs": []
    },
    {
      "cell_type": "markdown",
      "source": [
        "## STEP 4: 結果の評価と解釈"
      ],
      "metadata": {
        "id": "okgcDK0U-LF3"
      }
    },
    {
      "cell_type": "code",
      "source": [
        "# クラスター別の統計情報\n",
        "print(\"\\n=== クラスター別統計情報 ===\")\n",
        "cluster_summary = df.groupby('Cluster')[['県民所得', '人口密度', '犯罪件数']].agg({\n",
        "    '県民所得': ['mean', 'std'],\n",
        "    '人口密度': ['mean', 'std'],\n",
        "    '犯罪件数': ['mean', 'std']\n",
        "}).round(2)\n",
        "\n",
        "print(cluster_summary)"
      ],
      "metadata": {
        "id": "ulFqU50Y1K-l"
      },
      "execution_count": null,
      "outputs": []
    },
    {
      "cell_type": "code",
      "source": [
        "# クラスタリング結果の散布図\n",
        "plt.scatter(X[features[0]],  # X\n",
        "            X[features[1]], # Y\n",
        "            c=df['Cluster'], # 色はクラスタ番号に従う\n",
        "            alpha=0.7) # バブルの透明度\n",
        "\n",
        "plt.xlabel('人口密度(対数)')\n",
        "plt.ylabel('犯罪件数')\n",
        "plt.title('都道府県セグメンテーションの結果')\n",
        "plt.grid(True, alpha=0.3)"
      ],
      "metadata": {
        "id": "f8SslTVmjq_J"
      },
      "execution_count": null,
      "outputs": []
    },
    {
      "cell_type": "code",
      "source": [
        "# 各クラスタに含まれる都道府県名を観察する\n",
        "for i in range(optimal_k):\n",
        "    prefs = df[df['Cluster']==i]['都道府県'].tolist()\n",
        "    print(f\"クラスタ {i}: {prefs}\")"
      ],
      "metadata": {
        "id": "iggT5qIUjq86"
      },
      "execution_count": null,
      "outputs": []
    }
  ]
}